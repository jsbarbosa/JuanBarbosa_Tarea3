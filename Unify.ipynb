{
 "cells": [
  {
   "cell_type": "code",
<<<<<<< HEAD
   "execution_count": null,
=======
   "execution_count": 26,
>>>>>>> 2eed38dd9f308692072940fd8ed43dc12aa72ba7
   "metadata": {
    "collapsed": true
   },
   "outputs": [],
   "source": [
    "import numpy as np\n",
    "import pandas as pd\n",
    "import matplotlib.pyplot as plt\n",
    "import sklearn as sk\n",
    "from sklearn import preprocessing\n",
    "from sklearn.linear_model import Lasso, LinearRegression\n",
    "from sklearn.model_selection import train_test_split\n",
    "from sklearn.feature_selection import f_regression\n",
    "from sklearn.pipeline import Pipeline\n",
    "from sklearn.preprocessing import PolynomialFeatures\n",
    "from sklearn.svm import SVR"
   ]
  },
  {
   "cell_type": "code",
   "execution_count": null,
   "metadata": {
    "collapsed": true
   },
   "outputs": [],
   "source": [
    "def create_our_columns(dataframe):\n",
    "    grouped = dataframe.groupby('ident')\n",
    "    masa_total = grouped.sum()['emepla(i)/emet']\n",
    "    eficiencia = masa_total/(grouped['emed'].first())\n",
    "    n_planetas = grouped.size()\n",
    "    \n",
    "    n_planetas.name = 'nplanets'\n",
    "    masa_total.name = 'tmass'\n",
    "    eficiencia.name = 'eff'\n",
    "    \n",
    "    new = dataframe.join(n_planetas, on='ident')\n",
    "    new = new.join(masa_total, on='ident')\n",
    "    new = new.join(eficiencia, on='ident')\n",
    "    \n",
    "    return new\n",
    "\n",
    "def scalate(splitted_data):\n",
    "    X_train, X_test, Y_train, Y_test = splitted_data\n",
    "    if len(Y_train.shape) == 1:\n",
    "        Y_train = Y_train.values.reshape((-1, 1))\n",
    "        Y_test = Y_test.values.reshape((-1, 1))\n",
    "        \n",
    "    scaler = preprocessing.StandardScaler().fit(X_train)\n",
    "    X_train_ = scaler.transform(X_train)\n",
    "    X_test_ = scaler.transform(X_test)\n",
    "    \n",
    "    scaler = preprocessing.StandardScaler().fit(Y_train)\n",
    "    Y_train_ = scaler.transform(Y_train)\n",
    "    Y_test_ = scaler.transform(Y_test)\n",
    "    \n",
    "    return X_train_, X_test_, Y_train_, Y_test_"
   ]
  },
  {
   "cell_type": "code",
   "execution_count": null,
   "metadata": {
    "collapsed": true
   },
   "outputs": [],
   "source": [
    "def lasso_test(data, n_keys, lambdas):\n",
    "    N = len(lambdas)\n",
    "    \n",
    "    X_train, X_test, Y_train, Y_test = data\n",
    "    \n",
    "    coefs_norm = np.zeros((N, n_keys + 1))\n",
    "    scores_norm = np.zeros(N)\n",
    "\n",
    "    for i in range(N):\n",
    "        clf = Lasso(alpha = lambdas[i])\n",
    "        clf.fit(X_train, Y_train)\n",
    "        coefs_norm[i, 0] = clf.intercept_\n",
    "        coefs_norm[i, 1:] = clf.coef_\n",
    "        scores_norm[i] = clf.score(X_test, Y_test)\n",
    "        \n",
    "    return coefs_norm, scores_norm\n",
    "    \n",
    "def multiple_lasso_testing(dataframe, wanted_index = 0, number_of_test = 1):\n",
    "    grouped = dataframe.groupby('ident')\n",
    "    data = grouped.mean()\n",
    "    keys = list(data.keys())\n",
    "    wanted = ['nplanets', 'tmass', 'eff']\n",
    "    to_remove = ['a(i)', 'emegas(i)', 'emepla(i)/emet', 'it', 'qest', 'gama', 'fpert', 'constmigI'] + wanted\n",
    "\n",
    "    for key in to_remove:\n",
    "        keys.remove(key)\n",
    "        \n",
    "    X_data = data[keys]\n",
    "    Y_data = data[wanted[wanted_index]]\n",
    "    n_keys = len(keys)\n",
    "    n_lambdas = 100\n",
    "    lambdas = np.logspace(-3, -1, n_lambdas)\n",
    "    set_coefs = np.zeros((number_of_test, n_lambdas, n_keys + 1))\n",
    "    set_scores = np.zeros((number_of_test, n_lambdas))\n",
    "    for i in range(number_of_test):\n",
    "        splitted = train_test_split(X_data, Y_data)\n",
    "        coefs_norm, scores_norm = lasso_test(scalate(splitted), n_keys, lambdas)\n",
    "        set_coefs[i] = coefs_norm\n",
    "        set_scores[i] = scores_norm\n",
    "        \n",
    "    return keys, lambdas, set_coefs, set_scores\n",
    "\n",
    "def plot(resulting_data):\n",
    "    keys, lambdas, coeffs, scores = resulting_data\n",
    "    mean = coeffs.mean(axis=0)\n",
    "    std = coeffs.std(axis=0)\n",
    "    fig, ax = plt.subplots()\n",
    "    for i in range(std.shape[1]-1):\n",
    "        if i < 10:\n",
    "            line = '-'\n",
    "        else:\n",
    "            line = '--'\n",
    "        keys[i]\n",
    "        ax.loglog(lambdas, abs(mean[:, i+1]), line,\\\n",
    "                     label = r\"$\\beta_{%d}$ '%s'\"%(i+1, keys[i]))\n",
    "    ax.set_ylabel('Coeficientes')\n",
    "    ax.set_xlabel(r'$\\lambda$ value')\n",
    "    \n",
    "    box = ax.get_position()\n",
    "    ax.set_position([box.x0, box.y0, box.width * 0.8, box.height])\n",
    "    ax.legend(loc='center left', bbox_to_anchor=(1, 0.5), fontsize=8)\n",
    "    return fig, ax"
   ]
  },
  {
   "cell_type": "code",
   "execution_count": null,
   "metadata": {
    "collapsed": false
   },
   "outputs": [],
   "source": [
    "low.keys()"
   ]
  },
  {
   "cell_type": "code",
   "execution_count": null,
   "metadata": {
    "collapsed": false
   },
   "outputs": [],
   "source": [
    "low = pd.read_csv('lowp_finalresults.csv')\n",
    "high = pd.read_csv('highp_finalresults.csv')"
   ]
  },
  {
   "cell_type": "code",
   "execution_count": null,
   "metadata": {
    "collapsed": false
   },
   "outputs": [],
   "source": [
    "low_complete = create_our_columns(low)\n",
    "high_complete = create_our_columns(high)"
   ]
  },
  {
   "cell_type": "markdown",
   "metadata": {},
   "source": [
    "# LASSO studies\n",
    "\n",
    "### Planets number"
   ]
  },
  {
   "cell_type": "code",
   "execution_count": null,
   "metadata": {
    "collapsed": false
   },
   "outputs": [],
   "source": [
    "fig, ax = plot(multiple_lasso_testing(low_complete, 0, 100))\n",
    "fig"
   ]
  },
  {
   "cell_type": "markdown",
   "metadata": {},
   "source": [
    "### Total mass"
   ]
  },
  {
   "cell_type": "code",
   "execution_count": null,
   "metadata": {
    "collapsed": false
   },
   "outputs": [],
   "source": [
    "fig, ax = plot(multiple_lasso_testing(low_complete, 1, 100))\n",
    "fig"
   ]
  },
  {
   "cell_type": "markdown",
   "metadata": {},
   "source": [
    "### Eficiencia"
   ]
  },
  {
   "cell_type": "code",
   "execution_count": null,
   "metadata": {
    "collapsed": false
   },
   "outputs": [],
   "source": [
    "fig, ax = plot(multiple_lasso_testing(low_complete, 2, 100))\n",
    "fig"
   ]
  },
  {
   "cell_type": "code",
<<<<<<< HEAD
   "execution_count": null,
   "metadata": {
    "collapsed": false
   },
   "outputs": [],
=======
   "execution_count": 27,
   "metadata": {
    "collapsed": false
   },
   "outputs": [
    {
     "name": "stderr",
     "output_type": "stream",
     "text": [
      "/home/juan/anaconda3/lib/python3.6/site-packages/sklearn/feature_selection/univariate_selection.py:279: RuntimeWarning: invalid value encountered in true_divide\n",
      "  corr /= row_norms(X.T)\n",
      "/home/juan/anaconda3/lib/python3.6/site-packages/scipy/stats/_distn_infrastructure.py:875: RuntimeWarning: invalid value encountered in greater\n",
      "  return (self.a < x) & (x < self.b)\n",
      "/home/juan/anaconda3/lib/python3.6/site-packages/scipy/stats/_distn_infrastructure.py:875: RuntimeWarning: invalid value encountered in less\n",
      "  return (self.a < x) & (x < self.b)\n",
      "/home/juan/anaconda3/lib/python3.6/site-packages/scipy/stats/_distn_infrastructure.py:1814: RuntimeWarning: invalid value encountered in less_equal\n",
      "  cond2 = cond0 & (x <= self.a)\n"
     ]
    }
   ],
>>>>>>> 2eed38dd9f308692072940fd8ed43dc12aa72ba7
   "source": [
    "wanted_index = 0\n",
    "low_complete\n",
    "grouped = low_complete.groupby('ident')\n",
    "data = grouped.mean()\n",
    "keys = list(data.keys())\n",
    "wanted = ['nplanets', 'tmass', 'eff']\n",
    "to_remove = ['a(i)', 'emegas(i)', 'emepla(i)/emet'] + wanted\n",
    "\n",
    "for key in to_remove:\n",
    "    keys.remove(key)\n",
    "        \n",
    "X_data = data[keys]\n",
    "Y_data = data[wanted[wanted_index]]\n",
    "\n",
    "F, pval = f_regression(X_data, Y_data)"
   ]
  },
  {
   "cell_type": "code",
<<<<<<< HEAD
   "execution_count": null,
   "metadata": {
    "collapsed": false
   },
   "outputs": [],
=======
   "execution_count": 28,
   "metadata": {
    "collapsed": false
   },
   "outputs": [
    {
     "name": "stdout",
     "output_type": "stream",
     "text": [
      "[ 8.91152703         nan  0.43780738  1.4767973   4.2409139   3.23562379\n",
      "  2.60248325         nan         nan         nan  3.850532    0.20101403\n",
      "  0.01881067]\n",
      "[ 0.0028589          nan  0.50823842  0.22438126  0.03955545  0.07216315\n",
      "  0.10681187         nan         nan         nan  0.04983154  0.65393914\n",
      "  0.89092076]\n"
     ]
    }
   ],
>>>>>>> 2eed38dd9f308692072940fd8ed43dc12aa72ba7
   "source": [
    "\n",
    "print(pval> 0.5)"
   ]
  },
  {
   "cell_type": "code",
<<<<<<< HEAD
   "execution_count": null,
   "metadata": {
    "collapsed": false
   },
   "outputs": [],
=======
   "execution_count": 29,
   "metadata": {
    "collapsed": false
   },
   "outputs": [
    {
     "data": {
      "text/plain": [
       "-0.00019149131101459105"
      ]
     },
     "execution_count": 29,
     "metadata": {},
     "output_type": "execute_result"
    }
   ],
>>>>>>> 2eed38dd9f308692072940fd8ed43dc12aa72ba7
   "source": [
    "model = Pipeline([('poly', PolynomialFeatures(degree=3)),('linear', LinearRegression(normalize=False,n_jobs=-1))])\n",
    "X_train, X_test, Y_train, Y_test = train_test_split(X_data, Y_data, test_size=0.2)\n",
    "model.fit(X_train, Y_train)\n",
    "\n",
    "y_pred = model.predict(X_test)\n",
    "sk.metrics.r2_score(Y_test, y_pred)"
   ]
  },
  {
   "cell_type": "code",
   "execution_count": null,
   "metadata": {
    "collapsed": false
   },
   "outputs": [],
   "source": [
    "svmf = SVR(C=1.,epsilon=0.2)\n",
    "svmf.fit(X_train, Y_train)\n",
    "\n",
    "y_pred = svmf.predict(X_test)\n",
    "sk.metrics.r2_score(Y_test, y_pred)"
   ]
  },
  {
   "cell_type": "code",
   "execution_count": null,
   "metadata": {
    "collapsed": false
   },
   "outputs": [],
   "source": [
    "low_complete.keys()"
   ]
  },
  {
   "cell_type": "code",
   "execution_count": null,
   "metadata": {
    "collapsed": true
   },
   "outputs": [],
   "source": []
  }
 ],
 "metadata": {
  "anaconda-cloud": {},
  "kernelspec": {
   "display_name": "Python [default]",
   "language": "python",
   "name": "python3"
  },
  "language_info": {
   "codemirror_mode": {
    "name": "ipython",
    "version": 3
   },
   "file_extension": ".py",
   "mimetype": "text/x-python",
   "name": "python",
   "nbconvert_exporter": "python",
   "pygments_lexer": "ipython3",
   "version": "3.4.4"
  }
 },
 "nbformat": 4,
 "nbformat_minor": 2
}
