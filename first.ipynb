{
 "cells": [
  {
   "cell_type": "code",
   "execution_count": 66,
   "metadata": {
    "collapsed": false
   },
   "outputs": [
    {
     "data": {
      "text/html": [
       "<div>\n",
       "<table border=\"1\" class=\"dataframe\">\n",
       "  <thead>\n",
       "    <tr style=\"text-align: right;\">\n",
       "      <th></th>\n",
       "      <th>Unnamed: 0</th>\n",
       "      <th>ident</th>\n",
       "      <th>it</th>\n",
       "      <th>t</th>\n",
       "      <th>a(i)</th>\n",
       "      <th>emegas(i)</th>\n",
       "      <th>emepla(i)/emet</th>\n",
       "      <th>rplanet(i)/radtie</th>\n",
       "      <th>emestar</th>\n",
       "      <th>rc</th>\n",
       "      <th>qest</th>\n",
       "      <th>sigmag_0</th>\n",
       "      <th>emed</th>\n",
       "      <th>gama</th>\n",
       "      <th>apert</th>\n",
       "      <th>fpert</th>\n",
       "      <th>constmigI</th>\n",
       "      <th>emetal</th>\n",
       "      <th>taugas</th>\n",
       "    </tr>\n",
       "  </thead>\n",
       "  <tbody>\n",
       "    <tr>\n",
       "      <th>0</th>\n",
       "      <td>11</td>\n",
       "      <td>1</td>\n",
       "      <td>199934</td>\n",
       "      <td>20000001.0</td>\n",
       "      <td>0.035424</td>\n",
       "      <td>37.450019</td>\n",
       "      <td>41.777421</td>\n",
       "      <td>2.500347</td>\n",
       "      <td>1.425386e+33</td>\n",
       "      <td>40.040195</td>\n",
       "      <td>2.281872</td>\n",
       "      <td>158.835559</td>\n",
       "      <td>0.18</td>\n",
       "      <td>1.0</td>\n",
       "      <td>0.0</td>\n",
       "      <td>1.0</td>\n",
       "      <td>0.1</td>\n",
       "      <td>-0.092791</td>\n",
       "      <td>3525593.5</td>\n",
       "    </tr>\n",
       "    <tr>\n",
       "      <th>1</th>\n",
       "      <td>12</td>\n",
       "      <td>1</td>\n",
       "      <td>199934</td>\n",
       "      <td>20000001.0</td>\n",
       "      <td>1.256601</td>\n",
       "      <td>0.994173</td>\n",
       "      <td>5.461369</td>\n",
       "      <td>2.529407</td>\n",
       "      <td>1.425386e+33</td>\n",
       "      <td>40.040195</td>\n",
       "      <td>2.281872</td>\n",
       "      <td>158.835559</td>\n",
       "      <td>0.18</td>\n",
       "      <td>1.0</td>\n",
       "      <td>0.0</td>\n",
       "      <td>1.0</td>\n",
       "      <td>0.1</td>\n",
       "      <td>-0.092791</td>\n",
       "      <td>3525593.5</td>\n",
       "    </tr>\n",
       "    <tr>\n",
       "      <th>2</th>\n",
       "      <td>13</td>\n",
       "      <td>1</td>\n",
       "      <td>199934</td>\n",
       "      <td>20000001.0</td>\n",
       "      <td>7.750644</td>\n",
       "      <td>0.000000</td>\n",
       "      <td>2.205831</td>\n",
       "      <td>2.001885</td>\n",
       "      <td>1.425386e+33</td>\n",
       "      <td>40.040195</td>\n",
       "      <td>2.281872</td>\n",
       "      <td>158.835559</td>\n",
       "      <td>0.18</td>\n",
       "      <td>1.0</td>\n",
       "      <td>0.0</td>\n",
       "      <td>1.0</td>\n",
       "      <td>0.1</td>\n",
       "      <td>-0.092791</td>\n",
       "      <td>3525593.5</td>\n",
       "    </tr>\n",
       "    <tr>\n",
       "      <th>3</th>\n",
       "      <td>14</td>\n",
       "      <td>1</td>\n",
       "      <td>199934</td>\n",
       "      <td>20000001.0</td>\n",
       "      <td>9.749447</td>\n",
       "      <td>0.000000</td>\n",
       "      <td>1.475556</td>\n",
       "      <td>1.751609</td>\n",
       "      <td>1.425386e+33</td>\n",
       "      <td>40.040195</td>\n",
       "      <td>2.281872</td>\n",
       "      <td>158.835559</td>\n",
       "      <td>0.18</td>\n",
       "      <td>1.0</td>\n",
       "      <td>0.0</td>\n",
       "      <td>1.0</td>\n",
       "      <td>0.1</td>\n",
       "      <td>-0.092791</td>\n",
       "      <td>3525593.5</td>\n",
       "    </tr>\n",
       "    <tr>\n",
       "      <th>4</th>\n",
       "      <td>15</td>\n",
       "      <td>1</td>\n",
       "      <td>199934</td>\n",
       "      <td>20000001.0</td>\n",
       "      <td>13.694444</td>\n",
       "      <td>0.000000</td>\n",
       "      <td>0.810833</td>\n",
       "      <td>1.435569</td>\n",
       "      <td>1.425386e+33</td>\n",
       "      <td>40.040195</td>\n",
       "      <td>2.281872</td>\n",
       "      <td>158.835559</td>\n",
       "      <td>0.18</td>\n",
       "      <td>1.0</td>\n",
       "      <td>0.0</td>\n",
       "      <td>1.0</td>\n",
       "      <td>0.1</td>\n",
       "      <td>-0.092791</td>\n",
       "      <td>3525593.5</td>\n",
       "    </tr>\n",
       "  </tbody>\n",
       "</table>\n",
       "</div>"
      ],
      "text/plain": [
       "   Unnamed: 0  ident      it           t       a(i)  emegas(i)  \\\n",
       "0          11      1  199934  20000001.0   0.035424  37.450019   \n",
       "1          12      1  199934  20000001.0   1.256601   0.994173   \n",
       "2          13      1  199934  20000001.0   7.750644   0.000000   \n",
       "3          14      1  199934  20000001.0   9.749447   0.000000   \n",
       "4          15      1  199934  20000001.0  13.694444   0.000000   \n",
       "\n",
       "   emepla(i)/emet  rplanet(i)/radtie       emestar         rc      qest  \\\n",
       "0       41.777421           2.500347  1.425386e+33  40.040195  2.281872   \n",
       "1        5.461369           2.529407  1.425386e+33  40.040195  2.281872   \n",
       "2        2.205831           2.001885  1.425386e+33  40.040195  2.281872   \n",
       "3        1.475556           1.751609  1.425386e+33  40.040195  2.281872   \n",
       "4        0.810833           1.435569  1.425386e+33  40.040195  2.281872   \n",
       "\n",
       "     sigmag_0  emed  gama  apert  fpert  constmigI    emetal     taugas  \n",
       "0  158.835559  0.18   1.0    0.0    1.0        0.1 -0.092791  3525593.5  \n",
       "1  158.835559  0.18   1.0    0.0    1.0        0.1 -0.092791  3525593.5  \n",
       "2  158.835559  0.18   1.0    0.0    1.0        0.1 -0.092791  3525593.5  \n",
       "3  158.835559  0.18   1.0    0.0    1.0        0.1 -0.092791  3525593.5  \n",
       "4  158.835559  0.18   1.0    0.0    1.0        0.1 -0.092791  3525593.5  "
      ]
     },
     "execution_count": 66,
     "metadata": {},
     "output_type": "execute_result"
    }
   ],
   "source": [
    "import numpy as np\n",
    "import pandas as pd\n",
    "import tensorflow as tf\n",
    "import sklearn as sk\n",
    "from sklearn.linear_model import BayesianRidge, LinearRegression, HuberRegressor, Lasso\n",
    "from sklearn.pipeline import Pipeline\n",
    "from sklearn.preprocessing import PolynomialFeatures\n",
    "from sklearn.neural_network import MLPRegressor\n",
    "from sklearn.model_selection import train_test_split\n",
    "import pickle as plk\n",
    "\n",
    "data = pd.read_csv('no_pert.csv')\n",
    "data.head()"
   ]
  },
  {
   "cell_type": "code",
   "execution_count": 11,
   "metadata": {
    "collapsed": true
   },
   "outputs": [],
   "source": [
    "#ident = tf.contrib.layers.sparse_column_with_keys(column_name=\"ident\",keys=data.ident.unique())\n",
    "#t = tf.contrib.layers.real_valued_column(\"t\")\n",
    "#a = tf.contrib.layers.real_valued_column(\"a(i)\")\n",
    "#emegas = tf.contrib.layers.real_valued_column(\"emegas(i)\")\n",
    "#emepla_emet = tf.contrib.layers.real_valued_column(\"emega(i)/emet\")\n",
    "#rplanet_radtie = tf.contrib.layers.real_valued_column(\"rplanet(i)/radtie\")\n",
    "#rc = tf.contrib.layers.real_valued_column(\"rc\")\n",
    "#sigmag_0 = tf.contrib.layers.real_valued_column(\"sigma_0\")\n",
    "#emed = tf.contrib.layers.real_valued_column(\"emed\")\n",
    "#apert = tf.contrib.layers.real_valued_column(\"apert\")\n",
    "#emetal = tf.contrib.layers.real_valued_column(\"emetal\")\n",
    "#taugas = tf.contrib.layers.real_valued_column(\"taugas\")"
   ]
  },
  {
   "cell_type": "code",
   "execution_count": 16,
   "metadata": {
    "collapsed": false
   },
   "outputs": [],
   "source": [
    "Y = data[['a(i)','emegas(i)','emepla(i)/emet','rplanet(i)/radtie']]\n",
    "X = data[['ident','emestar','rc','sigmag_0','emed','apert','emetal','taugas']]\n",
    "Xsq = sk.preprocessing.PolynomialFeatures(degree=2)\n",
    "\n",
    "X_train, X_test, Y_train, Y_test = train_test_split(X, Y, test_size=0.2)"
   ]
  },
  {
   "cell_type": "code",
   "execution_count": 41,
   "metadata": {
    "collapsed": false
   },
   "outputs": [
    {
     "data": {
      "text/plain": [
       "Lasso(alpha=1.0, copy_X=True, fit_intercept=True, max_iter=1000,\n",
       "   normalize=True, positive=False, precompute=False, random_state=None,\n",
       "   selection='cyclic', tol=0.0001, warm_start=False)"
      ]
     },
     "execution_count": 41,
     "metadata": {},
     "output_type": "execute_result"
    }
   ],
   "source": [
    "clf = BayesianRidge(compute_score=True,normalize=True)\n",
    "clf.fit(X, Y['a(i)'])\n",
    "\n",
    "ols = LinearRegression(normalize=True)\n",
    "ols.fit(X, Y['a(i)'])\n",
    "\n",
    "#hls = HuberRegressor()\n",
    "#hls.fit(X, Y['a(i)'])\n",
    "lls = Lasso(normalize=True)\n",
    "lls.fit(X, Y['a(i)'])"
   ]
  },
  {
   "cell_type": "code",
   "execution_count": 38,
   "metadata": {
    "collapsed": false
   },
   "outputs": [
    {
     "data": {
      "text/plain": [
       "0.41114214929674131"
      ]
     },
     "execution_count": 38,
     "metadata": {},
     "output_type": "execute_result"
    }
   ],
   "source": [
    "y_pred = clf.predict(X)\n",
    "sk.metrics.r2_score(Y['a(i)'], y_pred)"
   ]
  },
  {
   "cell_type": "code",
   "execution_count": 39,
   "metadata": {
    "collapsed": false
   },
   "outputs": [
    {
     "data": {
      "text/plain": [
       "0.41114267608540378"
      ]
     },
     "execution_count": 39,
     "metadata": {},
     "output_type": "execute_result"
    }
   ],
   "source": [
    "y_pred = ols.predict(X)\n",
    "sk.metrics.r2_score(Y['a(i)'], y_pred)"
   ]
  },
  {
   "cell_type": "code",
   "execution_count": 42,
   "metadata": {
    "collapsed": false
   },
   "outputs": [
    {
     "data": {
      "text/plain": [
       "0.0"
      ]
     },
     "execution_count": 42,
     "metadata": {},
     "output_type": "execute_result"
    }
   ],
   "source": [
    "y_pred = lls.predict(X)\n",
    "sk.metrics.r2_score(Y['a(i)'], y_pred)"
   ]
  },
  {
   "cell_type": "code",
   "execution_count": 64,
   "metadata": {
    "collapsed": false
   },
   "outputs": [
    {
     "data": {
      "text/plain": [
       "Pipeline(steps=[('poly', PolynomialFeatures(degree=3, include_bias=True, interaction_only=False)), ('linear', LinearRegression(copy_X=True, fit_intercept=True, n_jobs=-1, normalize=True))])"
      ]
     },
     "execution_count": 64,
     "metadata": {},
     "output_type": "execute_result"
    }
   ],
   "source": [
    "model = Pipeline([('poly', PolynomialFeatures(degree=3)),('linear', LinearRegression(normalize=True,n_jobs=-1))])\n",
    "model.fit(X_train, Y_train['a(i)'])"
   ]
  },
  {
   "cell_type": "code",
   "execution_count": 65,
   "metadata": {
    "collapsed": false
   },
   "outputs": [
    {
     "data": {
      "text/plain": [
       "0.4536832792820803"
      ]
     },
     "execution_count": 65,
     "metadata": {},
     "output_type": "execute_result"
    }
   ],
   "source": [
    "y_pred = model.predict(X_test)\n",
    "sk.metrics.r2_score(Y_test['a(i)'], y_pred)"
   ]
  },
  {
   "cell_type": "code",
   "execution_count": 55,
   "metadata": {
    "collapsed": false
   },
   "outputs": [
    {
     "data": {
      "text/plain": [
       "MLPRegressor(activation='relu', alpha=0.0001, batch_size='auto', beta_1=0.9,\n",
       "       beta_2=0.999, early_stopping=False, epsilon=1e-08,\n",
       "       hidden_layer_sizes=(400,), learning_rate='adaptive',\n",
       "       learning_rate_init=0.001, max_iter=400, momentum=0.9,\n",
       "       nesterovs_momentum=True, power_t=0.5, random_state=None,\n",
       "       shuffle=True, solver='adam', tol=1e-06, validation_fraction=0.1,\n",
       "       verbose=False, warm_start=False)"
      ]
     },
     "execution_count": 55,
     "metadata": {},
     "output_type": "execute_result"
    }
   ],
   "source": [
    "neural = MLPRegressor(learning_rate='adaptive',tol=1e-6,max_iter=400,hidden_layer_sizes=(400,))\n",
    "neural.fit(X_train, Y_train['a(i)'])"
   ]
  },
  {
   "cell_type": "code",
   "execution_count": 56,
   "metadata": {
    "collapsed": false
   },
   "outputs": [
    {
     "data": {
      "text/plain": [
       "-3.4843070716552724e+54"
      ]
     },
     "execution_count": 56,
     "metadata": {},
     "output_type": "execute_result"
    }
   ],
   "source": [
    "y_pred = neural.predict(X_test)\n",
    "sk.metrics.r2_score(Y_test['a(i)'], y_pred)"
   ]
  },
  {
   "cell_type": "code",
   "execution_count": 67,
   "metadata": {
    "collapsed": true
   },
   "outputs": [],
   "source": [
    "mod = plk.load(open('model.p','rb'))"
   ]
  },
  {
   "cell_type": "code",
   "execution_count": 68,
   "metadata": {
    "collapsed": false
   },
   "outputs": [
    {
     "data": {
      "text/plain": [
       "0.4627556082548886"
      ]
     },
     "execution_count": 68,
     "metadata": {},
     "output_type": "execute_result"
    }
   ],
   "source": [
    "y_pred = mod.predict(X_test)\n",
    "sk.metrics.r2_score(Y_test['a(i)'], y_pred)"
   ]
  },
  {
   "cell_type": "code",
   "execution_count": null,
   "metadata": {
    "collapsed": true
   },
   "outputs": [],
   "source": []
  }
 ],
 "metadata": {
  "kernelspec": {
   "display_name": "Python 3",
   "language": "python",
   "name": "python3"
  },
  "language_info": {
   "codemirror_mode": {
    "name": "ipython",
    "version": 3
   },
   "file_extension": ".py",
   "mimetype": "text/x-python",
   "name": "python",
   "nbconvert_exporter": "python",
   "pygments_lexer": "ipython3",
   "version": "3.6.0"
  }
 },
 "nbformat": 4,
 "nbformat_minor": 2
}
